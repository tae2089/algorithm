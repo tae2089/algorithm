{
 "cells": [
  {
   "cell_type": "markdown",
   "metadata": {},
   "source": [
    "# 큐 구조에 대해서 공부하기"
   ]
  },
  {
   "cell_type": "markdown",
   "metadata": {},
   "source": [
    "## 큐 구조\n",
    "- 가장 먼저 넣은 데이터를 가장 먼저 거낼 수 있는 구조\n",
    "    - 음식점에서 가장 먼저 줄을 선 사람이 음식을 제일 먼저 받는 것\n",
    "    - FIFO(First-in ,First-out)또는 LILO(Last-In, Last-Out) 방식으로 스택과 꺼내는 순서가 반대"
   ]
  },
  {
   "cell_type": "markdown",
   "metadata": {},
   "source": [
    "## 2. 알아둘 용어\n",
    "- Enqueue: 큐에 데이터를 넣는 기능\n",
    "- Dequeue: 큐에 데이터를 빼는 기능"
   ]
  },
  {
   "cell_type": "markdown",
   "metadata": {},
   "source": [
    "## 파이썬 queue 라이브러리 활용해서 큐 자료 구조 사용하기"
   ]
  },
  {
   "cell_type": "code",
   "execution_count": 1,
   "metadata": {},
   "outputs": [],
   "source": [
    "import queue\n",
    "\n",
    "# 일반적인 큐 생성하기(FIFO)\n",
    "data_queue = queue.Queue()\n",
    "data_queue.put(1)\n",
    "data_queue.put(2)\n",
    "data_queue.put(3)"
   ]
  }
 ],
 "metadata": {
  "kernelspec": {
   "display_name": "Python 3",
   "language": "python",
   "name": "python3"
  },
  "language_info": {
   "codemirror_mode": {
    "name": "ipython",
    "version": 3
   },
   "file_extension": ".py",
   "mimetype": "text/x-python",
   "name": "python",
   "nbconvert_exporter": "python",
   "pygments_lexer": "ipython3",
   "version": "3.7.6"
  }
 },
 "nbformat": 4,
 "nbformat_minor": 4
}
