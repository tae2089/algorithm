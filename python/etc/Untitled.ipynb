{
 "cells": [
  {
   "cell_type": "code",
   "execution_count": 4,
   "metadata": {},
   "outputs": [
    {
     "name": "stdout",
     "output_type": "stream",
     "text": [
      "[[1, 'C'], [5, 'B'], [2, 'A'], [7, 'D']]\n",
      "[1, 'C']\n",
      "[2, 'A']\n",
      "[5, 'B']\n",
      "[7, 'D']\n",
      "[]\n"
     ]
    }
   ],
   "source": [
    "import heapq\n",
    "queue = []\n",
    "heapq.heappush(queue,[2,\"A\"])\n",
    "heapq.heappush(queue,[5,\"B\"])\n",
    "heapq.heappush(queue,[1,\"C\"])\n",
    "heapq.heappush(queue,[7,\"D\"])\n",
    "print(queue)\n",
    "\n",
    "for index in range(len(queue)):\n",
    "    print(heapq.heappop(queue))\n",
    "\n",
    "print(queue)"
   ]
  },
  {
   "cell_type": "markdown",
   "metadata": {},
   "source": [
    "# 다익스트라 알고리즘\n",
    "- 탐색할 것"
   ]
  },
  {
   "cell_type": "code",
   "execution_count": 5,
   "metadata": {},
   "outputs": [],
   "source": [
    "mygraph = {\n",
    "    'A':{\"B\":8,\"C\":1,\"D\":2},\n",
    "    'B':{},\n",
    "    'C':{\"B\":5,\"D\":2},\n",
    "    'D':{\"E\":3,\"F\":5},\n",
    "    'E':{\"F\":1},\n",
    "    'F':{\"A\":5}\n",
    "}"
   ]
  },
  {
   "cell_type": "code",
   "execution_count": 8,
   "metadata": {},
   "outputs": [
    {
     "name": "stdout",
     "output_type": "stream",
     "text": [
      "({'A': 0, 'B': 6, 'C': 1, 'D': 2, 'E': 5, 'F': 6}, ['A', 'C', 'D', 'E', 'B', 'F'])\n"
     ]
    }
   ],
   "source": [
    "import heapq\n",
    "\n",
    "def dijkstra(graph,start):\n",
    "    print(\"dijkstra algorithm\")\n",
    "    # 각 노드에 inf넣기\n",
    "    distances = {node: float('inf') for node in graph}\n",
    "    #초기화\n",
    "    distances[start] = 0\n",
    "    queue = []\n",
    "    q2 = []\n",
    "    heapq.heappush(queue,[distances[start],start])\n",
    "    \n",
    "    while queue:\n",
    "        #거리, 노드\n",
    "        current_distance,current_node = heapq.heappop(queue)\n",
    "        #같은 노드의 크기 비교 -> 현재 노드의 값이 currnet_distance보다 작으면 pass\n",
    "        if distances[current_node] < current_distance:\n",
    "            continue\n",
    "        else:\n",
    "            q2.append(current_node) \n",
    "        # adjacent = 노드들, weight= 가중치(거리)\n",
    "        for adjacent,weight in graph[current_node].items():\n",
    "            #노드에서 더한 값 구하기\n",
    "            distance = current_distance + weight\n",
    "            \n",
    "            #거리가 이전보다 작으면 바꿔주기\n",
    "            if distance < distances[adjacent]:\n",
    "                distances[adjacent] = distance\n",
    "                heapq.heappush(queue,[distance,adjacent])\n",
    "    return distances,q2\n",
    "\n",
    "print(dijkstra(mygraph,\"A\"))"
   ]
  },
  {
   "cell_type": "code",
   "execution_count": null,
   "metadata": {},
   "outputs": [],
   "source": [
    "def bellman_ford(graph, start):\n",
    "    distance, predecessor = dict(), dict()  # 거리 값, 각 정점의 이전 정점을 저장할 딕셔너리\n",
    "    # 거리 값을 모두 무한대로 초기화 / 이전 정점은 None으로 초기화\n",
    "    for node in graph:  \n",
    "        distance[node], predecessor[node] = float('inf'), None\n",
    "    distance[start] = 0  # 시작 정점 거리는 0\n",
    "\n",
    "    # 간선 개수(V-1)만큼 반복\n",
    "    for _ in range(len(graph) - 1):\n",
    "        for node in graph:\n",
    "            for neighbour in graph[node]:  # 각 정점마다 모든 인접 정점들을 탐색\n",
    "                # (기존 인접 정점까지의 거리 > 기존 현재 정점까지 거리 + 현재 정점부터 인접 정점까지 거리)인 경우 갱신\n",
    "                if distance[neighbour] > distance[node] + graph[node][neighbour]:\n",
    "                    distance[neighbour] = distance[node] + graph[node][neighbour]\n",
    "                    predecessor[neighbour] = node\n",
    "\n",
    "    # 음수 사이클 존재 여부 검사 : V-1번 반복 이후에도 갱신할 거리 값이 존재한다면 음수 사이클 존재\n",
    "    for node in graph:\n",
    "        for neighbour in graph[node]:\n",
    "            if distance[neighbour] > distance[node] + graph[node][neighbour]:\n",
    "                return -1, \"그래프에 음수 사이클이 존재합니다.\"\n",
    "\n",
    "    return distance, predecessor"
   ]
  },
  {
   "cell_type": "markdown",
   "metadata": {},
   "source": [
    "# 최소 신장 트리의 이해"
   ]
  },
  {
   "cell_type": "code",
   "execution_count": 9,
   "metadata": {},
   "outputs": [],
   "source": [
    "mygraph = {\n",
    "    'vertices': ['A', 'B', 'C', 'D', 'E', 'F', 'G'],\n",
    "    'edges': [\n",
    "        (7, 'A', 'B'),\n",
    "        (5, 'A', 'D'),\n",
    "        (7, 'B', 'A'),\n",
    "        (8, 'B', 'C'),\n",
    "        (9, 'B', 'D'),\n",
    "        (7, 'B', 'E'),\n",
    "        (8, 'C', 'B'),\n",
    "        (5, 'C', 'E'),\n",
    "        (5, 'D', 'A'),\n",
    "        (9, 'D', 'B'),\n",
    "        (7, 'D', 'E'),\n",
    "        (6, 'D', 'F'),\n",
    "        (7, 'E', 'B'),\n",
    "        (5, 'E', 'C'),\n",
    "        (7, 'E', 'D'),\n",
    "        (8, 'E', 'F'),\n",
    "        (9, 'E', 'G'),\n",
    "        (6, 'F', 'D'),\n",
    "        (8, 'F', 'E'),\n",
    "        (11, 'F', 'G'),\n",
    "        (9, 'G', 'E'),\n",
    "        (11, 'G', 'F')\n",
    "    ]\n",
    "}"
   ]
  },
  {
   "cell_type": "code",
   "execution_count": 11,
   "metadata": {},
   "outputs": [
    {
     "name": "stdout",
     "output_type": "stream",
     "text": [
      "[(5, 'A', 'D'), (5, 'C', 'E'), (6, 'D', 'F'), (7, 'A', 'B'), (7, 'B', 'E'), (9, 'E', 'G')]\n"
     ]
    }
   ],
   "source": [
    "# 노드의 부모 노드의 값을 저장\n",
    "parent = dict()\n",
    "\n",
    "# 각각의 노드의 rank를 넣어주기 위함\n",
    "rank = dict()\n",
    "\n",
    "def make_set(node):\n",
    "    parent[node] = node\n",
    "    rank[node] = 0\n",
    "\n",
    "def find(node):\n",
    "    # path compression\n",
    "    if parent[node] != node:\n",
    "        parent[node] = find(parent[node])\n",
    "    return parent[node]\n",
    "\n",
    "def union(node_v,node_u):\n",
    "    root1 = find(node_v)\n",
    "    root2 = find(node_u)\n",
    "    \n",
    "    if rank[root1] > rank[root2]:\n",
    "        parent[root2] = root1\n",
    "    else:\n",
    "        parent[root1] = root2\n",
    "        if rank[root1] == rank[root2]:\n",
    "            rank[root2]+=1\n",
    "\n",
    "def kruskal(graph):\n",
    "    mst = list()   \n",
    "    #초기화\n",
    "    for node in graph['vertices']:\n",
    "        make_set(node)\n",
    "    # 간선 weigth 기반 soring\n",
    "    edges = graph['edges']\n",
    "    edges.sort()\n",
    "    \n",
    "    # 간선 연결\n",
    "    for edge in edges:\n",
    "        weight,node_v,node_u = edge\n",
    "        if find(node_v) != find(node_u):\n",
    "            union(node_v,node_u)\n",
    "            mst.append(edge)\n",
    "    return mst\n",
    "\n",
    "print(kruskal(mygraph))"
   ]
  },
  {
   "cell_type": "code",
   "execution_count": null,
   "metadata": {},
   "outputs": [],
   "source": [
    "def qsort(data):\n",
    "    if len(data)<=1:\n",
    "        return data\n",
    "    left,right = list(),list()\n",
    "    pivot = data[0]\n",
    "    \n",
    "    for index in range(1,len(data)):\n",
    "        if pivot > data[index]:\n",
    "            left.append(data[index])\n",
    "        else:\n",
    "            right.append(data[index])\n",
    "    return qsort(left)+[pivot]+qsort(right)\n",
    "        "
   ]
  }
 ],
 "metadata": {
  "kernelspec": {
   "display_name": "Python 3",
   "language": "python",
   "name": "python3"
  },
  "language_info": {
   "codemirror_mode": {
    "name": "ipython",
    "version": 3
   },
   "file_extension": ".py",
   "mimetype": "text/x-python",
   "name": "python",
   "nbconvert_exporter": "python",
   "pygments_lexer": "ipython3",
   "version": "3.7.4"
  }
 },
 "nbformat": 4,
 "nbformat_minor": 4
}
